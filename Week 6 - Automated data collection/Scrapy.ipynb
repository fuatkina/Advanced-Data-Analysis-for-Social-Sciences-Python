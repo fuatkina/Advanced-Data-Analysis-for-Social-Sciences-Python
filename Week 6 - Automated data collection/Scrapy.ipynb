{
 "cells": [
  {
   "cell_type": "markdown",
   "id": "colored-provincial",
   "metadata": {},
   "source": [
    "## Scrapy - Extracting movie data from imdb\n",
    "\n",
    "\n",
    "While preparing codes in this page, I have utilized following source: https://app.datacamp.com/learn/courses/web-scraping-with-python"
   ]
  },
  {
   "cell_type": "code",
   "execution_count": null,
   "id": "coordinated-bowling",
   "metadata": {},
   "outputs": [],
   "source": [
    "#pip install scrapy"
   ]
  },
  {
   "cell_type": "code",
   "execution_count": null,
   "id": "bored-subscriber",
   "metadata": {},
   "outputs": [],
   "source": [
    "# Import a scrapy Selector\n",
    "from scrapy import Selector\n",
    "\n",
    "# Import requests\n",
    "import requests\n",
    "\n",
    "url = 'https://m.imdb.com/chart/top'\n",
    "\n",
    "# Create the string html containing the HTML source\n",
    "html = requests.get(url).content\n",
    "\n",
    "# Create the Selector object sel from html\n",
    "sel = Selector(text = html)\n",
    "\n",
    "# Print out the number of elements in the HTML document\n",
    "print( \"You have found: \", len(sel.xpath('//*')))"
   ]
  },
  {
   "cell_type": "code",
   "execution_count": null,
   "id": "unexpected-raising",
   "metadata": {},
   "outputs": [],
   "source": [
    "type(html)"
   ]
  },
  {
   "cell_type": "code",
   "execution_count": null,
   "id": "cathedral-thunder",
   "metadata": {},
   "outputs": [],
   "source": [
    "type(sel)"
   ]
  },
  {
   "cell_type": "code",
   "execution_count": null,
   "id": "respected-russian",
   "metadata": {},
   "outputs": [],
   "source": [
    "xpath_for_movienames ='//h4'"
   ]
  },
  {
   "cell_type": "code",
   "execution_count": null,
   "id": "purple-publicity",
   "metadata": {},
   "outputs": [],
   "source": [
    "sel.xpath(xpath_for_movienames).extract()"
   ]
  },
  {
   "cell_type": "code",
   "execution_count": null,
   "id": "possible-throat",
   "metadata": {},
   "outputs": [],
   "source": [
    "len(sel.xpath(xpath_for_movienames).extract())"
   ]
  },
  {
   "cell_type": "code",
   "execution_count": null,
   "id": "deluxe-lobby",
   "metadata": {},
   "outputs": [],
   "source": [
    "xpath_for_movienames ='//h4/text()'"
   ]
  },
  {
   "cell_type": "code",
   "execution_count": null,
   "id": "subject-mills",
   "metadata": {},
   "outputs": [],
   "source": [
    "movies = sel.xpath(xpath_for_movienames).extract()"
   ]
  },
  {
   "cell_type": "code",
   "execution_count": null,
   "id": "actual-legislature",
   "metadata": {},
   "outputs": [],
   "source": [
    "movies"
   ]
  },
  {
   "cell_type": "markdown",
   "id": "affecting-operation",
   "metadata": {},
   "source": [
    "#### Clean your text with strip"
   ]
  },
  {
   "cell_type": "code",
   "execution_count": null,
   "id": "selected-coordination",
   "metadata": {},
   "outputs": [],
   "source": [
    "movie_list=[]\n",
    "for string in movies:\n",
    "    cleaned_string = string.strip()\n",
    "    if cleaned_string != '':\n",
    "        movie_list.append(cleaned_string)\n",
    "    \n",
    "print(movie_list)"
   ]
  },
  {
   "cell_type": "markdown",
   "id": "sealed-stopping",
   "metadata": {},
   "source": [
    "#### A brief break: How does strip function work?"
   ]
  },
  {
   "cell_type": "code",
   "execution_count": null,
   "id": "featured-northern",
   "metadata": {},
   "outputs": [],
   "source": [
    "string = '  xoxo love xoxo   '\n",
    "\n",
    "# Leading and trailing whitespaces are removed\n",
    "print(string.strip())\n",
    "\n",
    "# All <whitespace>,x,o,e characters in the left\n",
    "# and right of string are removed\n",
    "print(string.strip(' xoe'))\n",
    "\n",
    "# Argument doesn't contain space\n",
    "# No characters are removed.\n",
    "print(string.strip('stx'))\n",
    "\n",
    "string = 'android is awesome'\n",
    "print(string.strip('an'))"
   ]
  },
  {
   "cell_type": "code",
   "execution_count": null,
   "id": "spiritual-exhibition",
   "metadata": {},
   "outputs": [],
   "source": [
    "len(movie_list)"
   ]
  },
  {
   "cell_type": "markdown",
   "id": "solid-boards",
   "metadata": {},
   "source": [
    "#### Extracting the order and year of movies"
   ]
  },
  {
   "cell_type": "code",
   "execution_count": null,
   "id": "creative-rachel",
   "metadata": {},
   "outputs": [],
   "source": [
    "xpath_for_movieorder ='//h4/span[1]/text()'\n",
    "movie_order = sel.xpath(xpath_for_movieorder).extract()"
   ]
  },
  {
   "cell_type": "code",
   "execution_count": null,
   "id": "sealed-concert",
   "metadata": {},
   "outputs": [],
   "source": [
    "xpath_for_moviedates ='//h4/span[2]/text()'\n",
    "movie_date = sel.xpath(xpath_for_moviedates).extract()"
   ]
  },
  {
   "cell_type": "markdown",
   "id": "removable-tribune",
   "metadata": {},
   "source": [
    "##### Copied Xpaths for the first four movies:\n",
    "\n",
    "//*[@id=\"chart-content\"]/div[1]/div[1]/div/a\n",
    "\n",
    "//*[@id=\"chart-content\"]/div[1]/div[2]/div/a\n",
    "\n",
    "//*[@id=\"chart-content\"]/div[2]/div[1]/div/a\n",
    "\n",
    "//*[@id=\"chart-content\"]/div[2]/div[2]/div/a\n",
    "\n",
    "…\n"
   ]
  },
  {
   "cell_type": "markdown",
   "id": "coated-medicaid",
   "metadata": {},
   "source": [
    "#### Movie links"
   ]
  },
  {
   "cell_type": "code",
   "execution_count": null,
   "id": "adjusted-cattle",
   "metadata": {},
   "outputs": [],
   "source": [
    "xpath_for_movielink = '//*[@id=\"chart-content\"]/div/div/div/a/@href'\n",
    "movie_link = sel.xpath(xpath_for_movielink).extract()"
   ]
  },
  {
   "cell_type": "code",
   "execution_count": null,
   "id": "measured-cliff",
   "metadata": {},
   "outputs": [],
   "source": [
    "len(movie_link)"
   ]
  },
  {
   "cell_type": "code",
   "execution_count": null,
   "id": "indoor-instrumentation",
   "metadata": {},
   "outputs": [],
   "source": [
    "movie_link"
   ]
  },
  {
   "cell_type": "markdown",
   "id": "endless-belfast",
   "metadata": {},
   "source": [
    "Shared objects are partial, let's figure this our"
   ]
  },
  {
   "cell_type": "code",
   "execution_count": null,
   "id": "geographic-seating",
   "metadata": {},
   "outputs": [],
   "source": [
    "first_part_url = 'https://m.imdb.com'\n",
    "last_part_url = '?pf_rd_m=A2FGELUUNOQJNL&pf_rd_p=df09bbba-7a44-41c0-bc85-426ba05a5574&pf_rd_r=R9N3Q0473JZET8YH4S2A&pf_rd_s=top-1&pf_rd_t=15506&pf_rd_i=top&ref_=m_chttp_tt_1'"
   ]
  },
  {
   "cell_type": "code",
   "execution_count": null,
   "id": "collective-france",
   "metadata": {},
   "outputs": [],
   "source": [
    "movie_link_merged = []\n",
    "\n",
    "for i in movie_link:\n",
    "    link = first_part_url + i + last_part_url\n",
    "    movie_link_merged.append(link)"
   ]
  },
  {
   "cell_type": "code",
   "execution_count": null,
   "id": "improving-demand",
   "metadata": {},
   "outputs": [],
   "source": [
    "len(movie_link_merged)"
   ]
  },
  {
   "cell_type": "markdown",
   "id": "amazing-secret",
   "metadata": {},
   "source": [
    "#### Let's store what we downloaded"
   ]
  },
  {
   "cell_type": "code",
   "execution_count": null,
   "id": "running-worker",
   "metadata": {},
   "outputs": [],
   "source": [
    "dictimdb = {'movie_order':movie_order, 'movie_date':movie_date, 'movie_list':movie_list, 'movie_link_merged': movie_link_merged}"
   ]
  },
  {
   "cell_type": "code",
   "execution_count": null,
   "id": "2f0c6f53-e83a-4097-8230-b16a738d1329",
   "metadata": {},
   "outputs": [],
   "source": [
    "import pandas as pd"
   ]
  },
  {
   "cell_type": "code",
   "execution_count": null,
   "id": "alpha-steam",
   "metadata": {},
   "outputs": [],
   "source": [
    "data_imdb = pd.DataFrame(dictimdb)"
   ]
  },
  {
   "cell_type": "code",
   "execution_count": null,
   "id": "14c53c09-158a-446e-a387-937f117b0c15",
   "metadata": {},
   "outputs": [],
   "source": [
    "data_imdb"
   ]
  },
  {
   "cell_type": "code",
   "execution_count": null,
   "id": "international-messaging",
   "metadata": {},
   "outputs": [],
   "source": [
    "data_imdb['movie_link_merged'][0]"
   ]
  },
  {
   "cell_type": "markdown",
   "id": "aerial-depression",
   "metadata": {},
   "source": [
    "#### Can we go further?\n",
    "\n",
    "Let's find out players of these famous movies:\n"
   ]
  },
  {
   "cell_type": "code",
   "execution_count": null,
   "id": "municipal-shape",
   "metadata": {},
   "outputs": [],
   "source": [
    "url = data_imdb['movie_link_merged'][1]"
   ]
  },
  {
   "cell_type": "code",
   "execution_count": null,
   "id": "burning-street",
   "metadata": {},
   "outputs": [],
   "source": [
    "html = requests.get(url).content\n",
    "\n",
    "sel = Selector(text = html)\n",
    "\n",
    "print( \"You have found: \", len(sel.xpath('//*')))"
   ]
  },
  {
   "cell_type": "markdown",
   "id": "massive-farmer",
   "metadata": {},
   "source": [
    "##### Copied Xpaths for the first four players:\n",
    "\n",
    "//*[@id=\"__next\"]/main/div/section[1]/div/section/div/div[1]/section[4]/div[2]/div[2]/div[1]/div[2]/a\n",
    "\n",
    "//*[@id=\"__next\"]/main/div/section[1]/div/section/div/div[1]/section[4]/div[2]/div[2]/div[2]/div[2]/a\n",
    "\n",
    "//*[@id=\"__next\"]/main/div/section[1]/div/section/div/div[1]/section[4]/div[2]/div[2]/div[3]/div[2]/a\n",
    "\n",
    "//*[@id=\"__next\"]/main/div/section[1]/div/section/div/div[1]/section[4]/div[2]/div[2]/div[4]/div[2]/a\n"
   ]
  },
  {
   "cell_type": "code",
   "execution_count": null,
   "id": "designing-arkansas",
   "metadata": {},
   "outputs": [],
   "source": [
    "xpath_for_movieplayers ='//*[@id=\"__next\"]/main/div/section[1]/div/section/div/div[1]/section[4]/div[2]/div[2]/div/div[2]/a/text()'\n",
    "movie_players_first_movie = sel.xpath(xpath_for_movieplayers).extract()"
   ]
  },
  {
   "cell_type": "code",
   "execution_count": null,
   "id": "interesting-daughter",
   "metadata": {},
   "outputs": [],
   "source": [
    "movie_players_first_movie"
   ]
  },
  {
   "cell_type": "code",
   "execution_count": null,
   "id": "failing-draft",
   "metadata": {},
   "outputs": [],
   "source": [
    "players_list=[]"
   ]
  },
  {
   "cell_type": "code",
   "execution_count": null,
   "id": "random-stuff",
   "metadata": {},
   "outputs": [],
   "source": [
    "for i in range(3):\n",
    "    url = data_imdb['movie_link_merged'][i]\n",
    "    html = requests.get(url).content\n",
    "    sel = Selector(text = html)\n",
    "    movie_players = sel.xpath(xpath_for_movieplayers).extract()\n",
    "    players_list.append(movie_players)"
   ]
  },
  {
   "cell_type": "code",
   "execution_count": null,
   "id": "objective-script",
   "metadata": {},
   "outputs": [],
   "source": [
    "players_list[1]"
   ]
  },
  {
   "cell_type": "code",
   "execution_count": null,
   "id": "4683ff89-8a9d-4f4c-8db0-9cb79c15aea1",
   "metadata": {},
   "outputs": [],
   "source": []
  }
 ],
 "metadata": {
  "kernelspec": {
   "display_name": "Python 3 (ipykernel)",
   "language": "python",
   "name": "python3"
  },
  "language_info": {
   "codemirror_mode": {
    "name": "ipython",
    "version": 3
   },
   "file_extension": ".py",
   "mimetype": "text/x-python",
   "name": "python",
   "nbconvert_exporter": "python",
   "pygments_lexer": "ipython3",
   "version": "3.11.5"
  }
 },
 "nbformat": 4,
 "nbformat_minor": 5
}

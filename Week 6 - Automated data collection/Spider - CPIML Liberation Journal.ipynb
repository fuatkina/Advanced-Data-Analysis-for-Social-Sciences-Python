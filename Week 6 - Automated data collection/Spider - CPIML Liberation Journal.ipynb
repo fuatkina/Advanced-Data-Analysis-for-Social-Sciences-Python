{
 "cells": [
  {
   "cell_type": "markdown",
   "id": "2e6cd64d",
   "metadata": {},
   "source": [
    "## Collecting an online journal archive: CPIML Liberation\n",
    "https://cpiml.net/liberation"
   ]
  },
  {
   "cell_type": "code",
   "execution_count": null,
   "id": "980da891",
   "metadata": {},
   "outputs": [],
   "source": [
    "print('hello')"
   ]
  },
  {
   "cell_type": "code",
   "execution_count": null,
   "id": "53683c4d",
   "metadata": {},
   "outputs": [],
   "source": [
    "import scrapy\n",
    "from scrapy.crawler import CrawlerProcess\n",
    "\n",
    "class Liberation_Spider(scrapy.Spider):\n",
    "    name = \"Liberation_Spider\"\n",
    "\n",
    "    def start_requests(self):\n",
    "        yield scrapy.Request(url = 'https://cpiml.net/2001-2010', callback = self.parse_1)\n",
    "\n",
    "    def parse_1(self, response):\n",
    "        \n",
    "        urls_for_years = response.xpath('//*[@id=\"block-booknavigation\"]/ul/li[1]/ul/li/a/@href').extract()\n",
    "        for link1 in urls_for_years: \n",
    "            link1 = 'https://cpiml.net/' + link1\n",
    "            yield response.follow(url=link1,  callback = self.parse_2)\n",
    "\n",
    "    def parse_2(self, response):\n",
    "        urls_for_months = response.xpath('//*[@id=\"block-booknavigation\"]/ul/li[1]/ul/li/ul/li/a/@href').extract()\n",
    "        for link2 in urls_for_months: \n",
    "            link2 = 'https://cpiml.net/' + link2\n",
    "            yield response.follow(url=link2,  callback = self.parse_3)\n",
    "\n",
    "    def parse_3(self, response):\n",
    "        urls_for_articles = response.xpath('//*[@id=\"block-booknavigation\"]/ul/li[1]/ul/li/ul/li/ul/li/a/@href').extract()\n",
    "        for link3 in urls_for_articles: \n",
    "            link3 = 'https://cpiml.net/' + link3\n",
    "            yield response.follow(url=link3,  callback = self.parse_4)\n",
    "\n",
    "    def parse_4(self, response):\n",
    "        articles_paragraphs = response.xpath('//*[@id=\"block-w3css-cpiml-content\"]/div/div/div[3]//p/text()').extract()\n",
    "        articles_title = response.xpath('//*[@id=\"block-w3css-cpiml-content\"]/div/div/div[2]/text()').extract()\n",
    "        article_list.append(articles_title)\n",
    "        article_content.append(articles_paragraphs)                \n",
    "\n",
    "article_list = []\n",
    "article_content = []\n",
    "\n",
    "process = CrawlerProcess()\n",
    "process.crawl(Liberation_Spider)\n",
    "process.start()"
   ]
  },
  {
   "cell_type": "code",
   "execution_count": null,
   "id": "227c1413",
   "metadata": {},
   "outputs": [],
   "source": [
    "article_list"
   ]
  },
  {
   "cell_type": "code",
   "execution_count": null,
   "id": "95c283e9",
   "metadata": {},
   "outputs": [],
   "source": [
    "article_list[0]"
   ]
  },
  {
   "cell_type": "code",
   "execution_count": null,
   "id": "b15a98a4",
   "metadata": {},
   "outputs": [],
   "source": [
    "article_list2 = []\n",
    "for item in article_list:\n",
    "    for it in item:\n",
    "        cleaned_string = it.strip()\n",
    "        if cleaned_string != '':\n",
    "            article_list2.append(cleaned_string)\n",
    "\n",
    "article_list2"
   ]
  },
  {
   "cell_type": "code",
   "execution_count": null,
   "id": "06d48bfd",
   "metadata": {},
   "outputs": [],
   "source": [
    "article_content[0]"
   ]
  },
  {
   "cell_type": "code",
   "execution_count": null,
   "id": "061b9150",
   "metadata": {},
   "outputs": [],
   "source": [
    "article_content[0][0]"
   ]
  },
  {
   "cell_type": "code",
   "execution_count": null,
   "id": "fe640ea1",
   "metadata": {},
   "outputs": [],
   "source": [
    "first_article = ' '.join([str(ele) for ele in article_content[0]])"
   ]
  },
  {
   "cell_type": "code",
   "execution_count": null,
   "id": "697cb0cb",
   "metadata": {},
   "outputs": [],
   "source": [
    "first_article"
   ]
  },
  {
   "cell_type": "code",
   "execution_count": null,
   "id": "6fc5dfd0",
   "metadata": {},
   "outputs": [],
   "source": [
    "article_content2 = []\n",
    "for i in range(len(article_content)):\n",
    "    article = ' '.join([str(ele) for ele in article_content[i]])\n",
    "    article_content2.append(article)\n",
    "    \n",
    "article_content2[6]"
   ]
  },
  {
   "cell_type": "code",
   "execution_count": null,
   "id": "bc299c9c",
   "metadata": {},
   "outputs": [],
   "source": [
    "import pandas as pd\n",
    "\n",
    "dict_liberation_journal = {'article title':article_list2, 'article':article_content2}\n",
    "data_liberation_journal = pd.DataFrame(dict_liberation_journal)"
   ]
  },
  {
   "cell_type": "code",
   "execution_count": null,
   "id": "a79132bd",
   "metadata": {},
   "outputs": [],
   "source": [
    "data_liberation_journal.head(50)"
   ]
  },
  {
   "cell_type": "code",
   "execution_count": null,
   "id": "3b2bc443",
   "metadata": {},
   "outputs": [],
   "source": [
    "data_liberation_journal.to_csv('data_liberation_journal.csv')"
   ]
  },
  {
   "cell_type": "code",
   "execution_count": null,
   "id": "d8fd654c",
   "metadata": {},
   "outputs": [],
   "source": [
    "data_liberation_journal.to_json('data_liberation_journal.json')"
   ]
  }
 ],
 "metadata": {
  "kernelspec": {
   "display_name": "Python 3 (ipykernel)",
   "language": "python",
   "name": "python3"
  },
  "language_info": {
   "codemirror_mode": {
    "name": "ipython",
    "version": 3
   },
   "file_extension": ".py",
   "mimetype": "text/x-python",
   "name": "python",
   "nbconvert_exporter": "python",
   "pygments_lexer": "ipython3",
   "version": "3.11.5"
  }
 },
 "nbformat": 4,
 "nbformat_minor": 5
}

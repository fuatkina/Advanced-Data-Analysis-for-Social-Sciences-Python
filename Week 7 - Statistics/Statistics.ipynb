{
 "cells": [
  {
   "cell_type": "markdown",
   "id": "celtic-chemical",
   "metadata": {},
   "source": [
    "## Basics of Statistical Analysis\n",
    "\n",
    "\n",
    "https://www.sfu.ca/~mjbrydon/tutorials/BAinPy/01_intro.html"
   ]
  },
  {
   "cell_type": "code",
   "execution_count": null,
   "id": "amended-prospect",
   "metadata": {},
   "outputs": [],
   "source": [
    "import pandas as pd\n",
    "import seaborn as sns\n",
    "import os"
   ]
  },
  {
   "cell_type": "code",
   "execution_count": null,
   "id": "mechanical-driver",
   "metadata": {},
   "outputs": [],
   "source": [
    "os.getcwd()"
   ]
  },
  {
   "cell_type": "code",
   "execution_count": null,
   "id": "harmful-turkish",
   "metadata": {},
   "outputs": [],
   "source": [
    "data = pd.read_json('C:/Users/user/Desktop/Advanced Data Analysis with Python 9.9.22/Datasets/twitter_data_ML.json')\n",
    "data.columns"
   ]
  },
  {
   "cell_type": "code",
   "execution_count": null,
   "id": "1e9420ca-c98d-4680-8df8-b517870d25c2",
   "metadata": {},
   "outputs": [],
   "source": [
    "data.head()"
   ]
  },
  {
   "cell_type": "code",
   "execution_count": null,
   "id": "ba4645cb-21c6-4161-b2ef-3c4ace0a7628",
   "metadata": {},
   "outputs": [],
   "source": [
    "data.describe()"
   ]
  },
  {
   "cell_type": "code",
   "execution_count": null,
   "id": "prerequisite-merchandise",
   "metadata": {
    "scrolled": true
   },
   "outputs": [],
   "source": [
    "data = data[['emoji_n', 'tweet_length', 'tweet_unique_length',\n",
    "       'province_codes', 'female', 'followers_count', 'following_count',\n",
    "       'age_group', 'university_rank', 'university', 'n_pos_sent', 'rank_dummy', \n",
    "       'big_cities', 'avr_w_length', 'positive']]"
   ]
  },
  {
   "cell_type": "markdown",
   "id": "66b140eb",
   "metadata": {},
   "source": [
    "I recently produced two variables: ```avr_w_length, positive```\n",
    "\n",
    "Following command line shows the operation.\n",
    "\n",
    "You should not run the following command line, since these variables are already defined."
   ]
  },
  {
   "cell_type": "code",
   "execution_count": null,
   "id": "480c8029",
   "metadata": {},
   "outputs": [],
   "source": [
    "def average(numbers):\n",
    "    if len(numbers)>0:\n",
    "        return sum(numbers)/len(numbers)\n",
    "    else:\n",
    "        return 0\n",
    "\n",
    "avr_w_length = []\n",
    "\n",
    "tweets = data['tweets'].to_numpy()\n",
    "\n",
    "for i in range(len(tweets)):\n",
    "    words = str(tweets[i]).split()\n",
    "    lengths = [len(word) for word in words]\n",
    "    avr_w_length.append(average(lengths))\n",
    "    \n",
    "data['avr_w_length'] = pd.DataFrame(avr_w_length)\n",
    "\n",
    "#------------------------------------------------------------------\n",
    "\n",
    "data['positive'] = pd.cut(data['n_pos_sent'],[0,3,5],labels=[0,1])"
   ]
  },
  {
   "cell_type": "code",
   "execution_count": null,
   "id": "relevant-bunny",
   "metadata": {},
   "outputs": [],
   "source": [
    "data['female']\n",
    "#male=0, female=1"
   ]
  },
  {
   "cell_type": "markdown",
   "id": "approximate-graduation",
   "metadata": {},
   "source": [
    "### histogram"
   ]
  },
  {
   "cell_type": "code",
   "execution_count": null,
   "id": "4f2d8b09-bcee-4825-840e-e2fac7bb93cc",
   "metadata": {},
   "outputs": [],
   "source": [
    "data['university_rank'].hist()"
   ]
  },
  {
   "cell_type": "code",
   "execution_count": null,
   "id": "knowing-singing",
   "metadata": {},
   "outputs": [],
   "source": [
    "sns.displot(x='university_rank', row='female', data=data, linewidth=0, kde=True);"
   ]
  },
  {
   "cell_type": "markdown",
   "id": "future-zimbabwe",
   "metadata": {},
   "source": [
    "### overlaying kernel density plots"
   ]
  },
  {
   "cell_type": "code",
   "execution_count": null,
   "id": "secure-stamp",
   "metadata": {},
   "outputs": [],
   "source": [
    "sns.kdeplot(x='university_rank', hue='female', data=data, shade=True)"
   ]
  },
  {
   "cell_type": "markdown",
   "id": "aggregate-norwegian",
   "metadata": {},
   "source": [
    "### t-test"
   ]
  },
  {
   "cell_type": "code",
   "execution_count": null,
   "id": "historic-philosophy",
   "metadata": {},
   "outputs": [],
   "source": [
    "female_rank = data[data['female'] == 1]['university_rank']\n",
    "male_rank = data[data['female'] == 0]['university_rank']"
   ]
  },
  {
   "cell_type": "code",
   "execution_count": null,
   "id": "sticky-essay",
   "metadata": {},
   "outputs": [],
   "source": [
    "female_rank"
   ]
  },
  {
   "cell_type": "code",
   "execution_count": null,
   "id": "horizontal-cheat",
   "metadata": {},
   "outputs": [],
   "source": [
    "from scipy import stats"
   ]
  },
  {
   "cell_type": "code",
   "execution_count": null,
   "id": "environmental-alabama",
   "metadata": {},
   "outputs": [],
   "source": [
    "#Whether variances are equal or not, null hypothesis is that they are equal\n",
    "stats.levene(female_rank, male_rank)"
   ]
  },
  {
   "cell_type": "code",
   "execution_count": null,
   "id": "objective-accident",
   "metadata": {},
   "outputs": [],
   "source": [
    "#pip install statsmodels"
   ]
  },
  {
   "cell_type": "code",
   "execution_count": null,
   "id": "favorite-glenn",
   "metadata": {},
   "outputs": [],
   "source": [
    "import statsmodels.stats.api as sms"
   ]
  },
  {
   "cell_type": "code",
   "execution_count": null,
   "id": "intended-rough",
   "metadata": {},
   "outputs": [],
   "source": [
    "model = sms.CompareMeans.from_data(data[data['female'] == 1]['university_rank'], data[data['female'] == 0]['university_rank'])\n",
    "model.summary(usevar='pooled') #pooled or unequal, you have two options"
   ]
  },
  {
   "cell_type": "markdown",
   "id": "greatest-ministry",
   "metadata": {},
   "source": [
    "The difference between males and females are not statistically significant at 0.05 p_value. However, the interpretation might change if we reconsider the output at 0.1 p_value."
   ]
  },
  {
   "cell_type": "markdown",
   "id": "federal-fellow",
   "metadata": {},
   "source": [
    "### Cross-tabs"
   ]
  },
  {
   "cell_type": "code",
   "execution_count": null,
   "id": "trained-retirement",
   "metadata": {},
   "outputs": [],
   "source": [
    "#age ranges: -18,19-29,30-39,40+\n",
    "\n",
    "contab_freq = pd.crosstab(\n",
    "    data['female'],\n",
    "    data['age_group'],\n",
    "    margins = False\n",
    "    #, normalize='index'\n",
    "   )\n",
    "contab_freq"
   ]
  },
  {
   "cell_type": "code",
   "execution_count": null,
   "id": "aquatic-quarterly",
   "metadata": {},
   "outputs": [],
   "source": [
    "chi = stats.chi2_contingency(contab_freq)\n",
    "chi"
   ]
  },
  {
   "cell_type": "markdown",
   "id": "48bb9cae-b861-4a5a-9caa-5d90dd30e5e5",
   "metadata": {},
   "source": [
    "https://docs.scipy.org/doc/scipy/reference/generated/scipy.stats.chi2_contingency.html"
   ]
  },
  {
   "cell_type": "markdown",
   "id": "impaired-method",
   "metadata": {},
   "source": [
    "### Correlation and scatterplots"
   ]
  },
  {
   "cell_type": "code",
   "execution_count": null,
   "id": "working-bryan",
   "metadata": {},
   "outputs": [],
   "source": [
    "import seaborn as sns\n",
    "sns.scatterplot(x=\"avr_w_length\", y=\"university_rank\", data=data)"
   ]
  },
  {
   "cell_type": "code",
   "execution_count": null,
   "id": "experimental-chain",
   "metadata": {},
   "outputs": [],
   "source": [
    "ax = sns.scatterplot(x=\"avr_w_length\", y=\"university_rank\", data=data)\n",
    "ax.set_title(\"Average word length vs University ranking\")\n",
    "ax.set_xlabel(\"the average word length used in tweets\")"
   ]
  },
  {
   "cell_type": "code",
   "execution_count": null,
   "id": "pending-bangkok",
   "metadata": {},
   "outputs": [],
   "source": [
    "sns.lmplot(x=\"avr_w_length\", y=\"university_rank\", data=data)"
   ]
  },
  {
   "cell_type": "code",
   "execution_count": null,
   "id": "permanent-group",
   "metadata": {},
   "outputs": [],
   "source": [
    "sns.lmplot(x=\"avr_w_length\", y=\"university_rank\",hue=\"big_cities\", data=data)"
   ]
  },
  {
   "cell_type": "code",
   "execution_count": null,
   "id": "paperback-adobe",
   "metadata": {},
   "outputs": [],
   "source": [
    "from scipy import stats\n",
    "stats.pearsonr(data['avr_w_length'], data['university_rank'])\n",
    "#coefficient correlation and p-value"
   ]
  },
  {
   "cell_type": "code",
   "execution_count": null,
   "id": "demonstrated-neighbor",
   "metadata": {},
   "outputs": [],
   "source": [
    "data.corr()"
   ]
  },
  {
   "cell_type": "code",
   "execution_count": null,
   "id": "legendary-level",
   "metadata": {},
   "outputs": [],
   "source": [
    "#Seaborn heatmap\n",
    "sns.heatmap(data.corr())"
   ]
  },
  {
   "cell_type": "code",
   "execution_count": null,
   "id": "28095269-f4c0-4b62-8320-d500605a4bf4",
   "metadata": {},
   "outputs": [],
   "source": [
    "sns.heatmap(data.corr(), cmap=\"YlGnBu\", annot=True)"
   ]
  },
  {
   "cell_type": "markdown",
   "id": "chubby-awareness",
   "metadata": {},
   "source": [
    "### Simple regression analysis"
   ]
  },
  {
   "cell_type": "code",
   "execution_count": null,
   "id": "ignored-sector",
   "metadata": {},
   "outputs": [],
   "source": [
    "data"
   ]
  },
  {
   "cell_type": "code",
   "execution_count": null,
   "id": "solid-johnston",
   "metadata": {},
   "outputs": [],
   "source": [
    "import statsmodels.api as sm"
   ]
  },
  {
   "cell_type": "code",
   "execution_count": null,
   "id": "fitting-publication",
   "metadata": {},
   "outputs": [],
   "source": [
    "y = data['university_rank']\n",
    "X = data['avr_w_length']"
   ]
  },
  {
   "cell_type": "code",
   "execution_count": null,
   "id": "neither-hunter",
   "metadata": {},
   "outputs": [],
   "source": [
    "X"
   ]
  },
  {
   "cell_type": "code",
   "execution_count": null,
   "id": "legislative-conservation",
   "metadata": {},
   "outputs": [],
   "source": [
    "X = sm.add_constant(X)\n",
    "#In OLS models, we have always Beta zero coefficient as an explanatory variable, which is known as the intercept of the line."
   ]
  },
  {
   "cell_type": "code",
   "execution_count": null,
   "id": "impaired-referral",
   "metadata": {},
   "outputs": [],
   "source": [
    "X"
   ]
  },
  {
   "cell_type": "code",
   "execution_count": null,
   "id": "south-detail",
   "metadata": {},
   "outputs": [],
   "source": [
    "model = sm.OLS(y, X, missing='drop')\n",
    "model_result = model.fit()\n",
    "model_result.summary()"
   ]
  },
  {
   "cell_type": "markdown",
   "id": "dietary-adapter",
   "metadata": {},
   "source": [
    "### Regression diagnostics"
   ]
  },
  {
   "cell_type": "markdown",
   "id": "moderate-genome",
   "metadata": {},
   "source": [
    "#### Histogram of residuals"
   ]
  },
  {
   "cell_type": "code",
   "execution_count": null,
   "id": "palestinian-husband",
   "metadata": {},
   "outputs": [],
   "source": [
    "import seaborn as sns\n",
    "sns.histplot(model_result.resid)"
   ]
  },
  {
   "cell_type": "code",
   "execution_count": null,
   "id": "nervous-disney",
   "metadata": {},
   "outputs": [],
   "source": [
    "from scipy import stats\n",
    "mu, std = stats.norm.fit(model_result.resid)\n",
    "mu, std"
   ]
  },
  {
   "cell_type": "code",
   "execution_count": null,
   "id": "enhanced-greene",
   "metadata": {},
   "outputs": [],
   "source": [
    "import matplotlib.pyplot as plt\n",
    "import numpy as np\n",
    "\n",
    "fig, ax = plt.subplots()\n",
    "# plot the residuals\n",
    "sns.histplot(x=model_result.resid, ax=ax, stat=\"density\", linewidth=0, kde=True)\n",
    "ax.set(title=\"Distribution of residuals\", xlabel=\"residual\")\n",
    "\n",
    "# plot corresponding normal curve\n",
    "xmin, xmax = plt.xlim() # the maximum x values from the histogram above\n",
    "x = np.linspace(xmin, xmax, 100) # generate some x values\n",
    "p = stats.norm.pdf(x, mu, std) # calculate the y values for the normal curve\n",
    "sns.lineplot(x=x, y=p, color=\"orange\", ax=ax)\n",
    "plt.show()"
   ]
  },
  {
   "cell_type": "markdown",
   "id": "unauthorized-martin",
   "metadata": {},
   "source": [
    "#### Boxplot of residuals"
   ]
  },
  {
   "cell_type": "code",
   "execution_count": null,
   "id": "maritime-hurricane",
   "metadata": {},
   "outputs": [],
   "source": [
    "sns.boxplot(x=model_result.resid, showmeans=True)"
   ]
  },
  {
   "cell_type": "markdown",
   "id": "everyday-yemen",
   "metadata": {},
   "source": [
    "#### Quantile - quantile plot of residuals"
   ]
  },
  {
   "cell_type": "code",
   "execution_count": null,
   "id": "defensive-technical",
   "metadata": {},
   "outputs": [],
   "source": [
    "sm.qqplot(model_result.resid, line=\"s\")"
   ]
  },
  {
   "cell_type": "code",
   "execution_count": null,
   "id": "a1830bf4-a9b2-46e8-9b7d-c90e59abe629",
   "metadata": {},
   "outputs": [],
   "source": [
    "fig = sm.qqplot(model_result.resid, line=\"s\")\n",
    "plt.show()"
   ]
  },
  {
   "cell_type": "markdown",
   "id": "anonymous-sugar",
   "metadata": {},
   "source": [
    "#### Fit plot"
   ]
  },
  {
   "cell_type": "code",
   "execution_count": null,
   "id": "electronic-student",
   "metadata": {},
   "outputs": [],
   "source": [
    "fig = sm.graphics.plot_fit(model_result, 1, vlines=False)\n",
    "plt.show()"
   ]
  },
  {
   "cell_type": "code",
   "execution_count": null,
   "id": "extra-gasoline",
   "metadata": {},
   "outputs": [],
   "source": [
    "model_result.fittedvalues"
   ]
  },
  {
   "cell_type": "code",
   "execution_count": null,
   "id": "adjusted-commission",
   "metadata": {},
   "outputs": [],
   "source": [
    "Y_max = y.max()\n",
    "Y_min = y.min()\n",
    "\n",
    "ax = sns.scatterplot(x=model_result.fittedvalues, y=y)\n",
    "ax.set(ylim=(Y_min, Y_max))\n",
    "ax.set(xlim=(Y_min, Y_max)) #revise Y_min and Y_max with 450 and 550\n",
    "ax.set_xlabel(\"Predicted value of Univ. Ranking\")\n",
    "ax.set_ylabel(\"Observed value of Univ. Ranking\")\n",
    "\n",
    "X_ref = Y_ref = np.linspace(Y_min, Y_max, 100)\n",
    "plt.plot(X_ref, Y_ref, color='red', linewidth=1)\n",
    "plt.show()"
   ]
  },
  {
   "cell_type": "markdown",
   "id": "coated-creature",
   "metadata": {},
   "source": [
    "We can say that we have a good-fitting estimation, but do not have a great predictor."
   ]
  },
  {
   "cell_type": "markdown",
   "id": "sophisticated-vocabulary",
   "metadata": {},
   "source": [
    "### Multiple regression models"
   ]
  },
  {
   "cell_type": "code",
   "execution_count": null,
   "id": "answering-north",
   "metadata": {},
   "outputs": [],
   "source": [
    "y = data['university_rank']\n",
    "X = data[['emoji_n', 'tweet_length', 'tweet_unique_length', 'positive']]\n",
    "X = sm.add_constant(X)"
   ]
  },
  {
   "cell_type": "code",
   "execution_count": null,
   "id": "decimal-postcard",
   "metadata": {},
   "outputs": [],
   "source": [
    "ks = sm.OLS(y, X)\n",
    "ks_res =ks.fit()\n",
    "ks_res.summary()"
   ]
  },
  {
   "cell_type": "code",
   "execution_count": null,
   "id": "every-domestic",
   "metadata": {},
   "outputs": [],
   "source": [
    "y = data['university_rank']\n",
    "X = data[['emoji_n', 'tweet_length', 'tweet_unique_length', 'positive', 'followers_count',\n",
    "          'following_count', 'age_group', 'female', 'avr_w_length']]\n",
    "X = sm.add_constant(X)"
   ]
  },
  {
   "cell_type": "code",
   "execution_count": null,
   "id": "respected-statistics",
   "metadata": {},
   "outputs": [],
   "source": [
    "ks = sm.OLS(y, X)\n",
    "ks_res =ks.fit()\n",
    "ks_res.summary()"
   ]
  },
  {
   "cell_type": "code",
   "execution_count": null,
   "id": "solved-jacket",
   "metadata": {},
   "outputs": [],
   "source": [
    "import statsmodels.formula.api as smf\n",
    "ksf =  smf.ols('university_rank ~ emoji_n + tweet_length + tweet_unique_length + positive + followers_count + following_count + age_group + female + avr_w_length', data=data)\n",
    "ksf_res = ksf.fit()\n",
    "ksf_res.summary()"
   ]
  },
  {
   "cell_type": "markdown",
   "id": "lightweight-drinking",
   "metadata": {},
   "source": [
    "### Checking for colinearity"
   ]
  },
  {
   "cell_type": "code",
   "execution_count": null,
   "id": "weird-responsibility",
   "metadata": {},
   "outputs": [],
   "source": [
    "import seaborn as sns\n",
    "sns.pairplot(X[['emoji_n', 'tweet_length', 'tweet_unique_length', 'followers_count',\n",
    "          'following_count', 'age_group', 'avr_w_length']])"
   ]
  },
  {
   "cell_type": "code",
   "execution_count": null,
   "id": "boxed-anime",
   "metadata": {},
   "outputs": [],
   "source": [
    "round(data.corr(),2)"
   ]
  },
  {
   "cell_type": "code",
   "execution_count": null,
   "id": "existing-equation",
   "metadata": {},
   "outputs": [],
   "source": [
    "X = X.drop(columns = ['tweet_length', 'followers_count'], inplace = False)"
   ]
  },
  {
   "cell_type": "code",
   "execution_count": null,
   "id": "durable-mistake",
   "metadata": {},
   "outputs": [],
   "source": [
    "mod1 = sm.OLS(y, X)\n",
    "mod1_res = mod1.fit()\n",
    "mod1_res.summary()"
   ]
  },
  {
   "cell_type": "markdown",
   "id": "published-viking",
   "metadata": {},
   "source": [
    "### Regression diagnostics again"
   ]
  },
  {
   "cell_type": "code",
   "execution_count": null,
   "id": "sublime-literacy",
   "metadata": {},
   "outputs": [],
   "source": [
    "from scipy import stats\n",
    "sns.distplot(mod1_res.resid, fit=stats.norm)"
   ]
  },
  {
   "cell_type": "code",
   "execution_count": null,
   "id": "velvet-dietary",
   "metadata": {},
   "outputs": [],
   "source": [
    "sns.boxplot(mod1_res.resid, showmeans=True)"
   ]
  },
  {
   "cell_type": "code",
   "execution_count": null,
   "id": "grave-trace",
   "metadata": {},
   "outputs": [],
   "source": [
    "fig = sm.qqplot(mod1_res.resid, line='s')\n",
    "plt.show()"
   ]
  },
  {
   "cell_type": "code",
   "execution_count": null,
   "id": "equivalent-single",
   "metadata": {},
   "outputs": [],
   "source": [
    "import matplotlib.pyplot as plt\n",
    "import numpy as np\n",
    "\n",
    "Y_max = y.max()\n",
    "Y_min = y.min()\n",
    "\n",
    "ax = sns.scatterplot(mod1_res.fittedvalues, y)\n",
    "ax.set(ylim=(Y_min, Y_max))\n",
    "ax.set(xlim=(Y_min, Y_max))\n",
    "ax.set_xlabel(\"Predicted value of university rank\")\n",
    "ax.set_ylabel(\"Observed value of university rank\")\n",
    "\n",
    "X_ref = Y_ref = np.linspace(Y_min, Y_max, 100)\n",
    "plt.plot(X_ref, Y_ref, color='red', linewidth=1)\n",
    "plt.show()"
   ]
  },
  {
   "cell_type": "markdown",
   "id": "egyptian-provision",
   "metadata": {},
   "source": [
    "### Standardize variables"
   ]
  },
  {
   "cell_type": "markdown",
   "id": "057594c5-86b3-4927-957e-8f21de267e54",
   "metadata": {},
   "source": [
    "standardized_a = ( a - a.mean() ) / a.std()"
   ]
  },
  {
   "cell_type": "code",
   "execution_count": null,
   "id": "controlling-calculation",
   "metadata": {},
   "outputs": [],
   "source": [
    "from scipy import stats\n",
    "y_norm = pd.Series(stats.zscore(y), name=y.name)\n",
    "y_norm"
   ]
  },
  {
   "cell_type": "code",
   "execution_count": null,
   "id": "nominated-rogers",
   "metadata": {},
   "outputs": [],
   "source": [
    "X_norm = X.loc[:, X.columns != \"const\"]\n",
    "X_norm = pd.DataFrame(stats.zscore(X_norm))\n",
    "X_norm = sm.add_constant(X_norm)\n",
    "X_norm.columns = X.columns\n",
    "check = pd.concat([round(X_norm.mean(axis=0)), round(X_norm.std(axis=0))], axis=1)\n",
    "check.columns=[\"mean\", \"std dev\"]\n",
    "check"
   ]
  },
  {
   "cell_type": "code",
   "execution_count": null,
   "id": "engaging-microwave",
   "metadata": {},
   "outputs": [],
   "source": [
    "modstd = sm.OLS(y_norm, X_norm)\n",
    "modstd_res = modstd.fit()\n",
    "modstd_res.summary()"
   ]
  },
  {
   "cell_type": "code",
   "execution_count": null,
   "id": "abroad-wells",
   "metadata": {},
   "outputs": [],
   "source": [
    "coeff = mod1_res.params\n",
    "#coeff = coeff.iloc[(coeff.abs()*-1.0).argsort()] in order to sort coefficients\n",
    "sns.barplot(x=coeff.values, y=coeff.index, orient='h')"
   ]
  },
  {
   "cell_type": "code",
   "execution_count": null,
   "id": "generous-diversity",
   "metadata": {},
   "outputs": [],
   "source": [
    "coeff = modstd_res.params\n",
    "sns.barplot(x=coeff.values, y=coeff.index, orient='h')"
   ]
  },
  {
   "cell_type": "code",
   "execution_count": null,
   "id": "198e3705-e7c9-4a51-8579-6ba422ff91d1",
   "metadata": {},
   "outputs": [],
   "source": []
  }
 ],
 "metadata": {
  "kernelspec": {
   "display_name": "Python 3 (ipykernel)",
   "language": "python",
   "name": "python3"
  },
  "language_info": {
   "codemirror_mode": {
    "name": "ipython",
    "version": 3
   },
   "file_extension": ".py",
   "mimetype": "text/x-python",
   "name": "python",
   "nbconvert_exporter": "python",
   "pygments_lexer": "ipython3",
   "version": "3.11.5"
  }
 },
 "nbformat": 4,
 "nbformat_minor": 5
}
